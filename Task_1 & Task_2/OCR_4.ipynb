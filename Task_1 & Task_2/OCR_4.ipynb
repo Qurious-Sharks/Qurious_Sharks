{
  "nbformat": 4,
  "nbformat_minor": 0,
  "metadata": {
    "colab": {
      "provenance": []
    },
    "kernelspec": {
      "name": "python3",
      "display_name": "Python 3"
    },
    "language_info": {
      "name": "python"
    }
  },
  "cells": [
    {
      "cell_type": "code",
      "execution_count": null,
      "metadata": {
        "colab": {
          "base_uri": "https://localhost:8080/"
        },
        "id": "DUWtVKf9T0gB",
        "outputId": "d43c14b5-7850-488a-a372-7657b368ff1d"
      },
      "outputs": [
        {
          "output_type": "stream",
          "name": "stdout",
          "text": [
            "Collecting pytesseract\n",
            "  Downloading pytesseract-0.3.13-py3-none-any.whl.metadata (11 kB)\n",
            "Requirement already satisfied: opencv-python in /usr/local/lib/python3.10/dist-packages (4.10.0.84)\n",
            "Requirement already satisfied: packaging>=21.3 in /usr/local/lib/python3.10/dist-packages (from pytesseract) (24.1)\n",
            "Requirement already satisfied: Pillow>=8.0.0 in /usr/local/lib/python3.10/dist-packages (from pytesseract) (10.4.0)\n",
            "Requirement already satisfied: numpy>=1.21.2 in /usr/local/lib/python3.10/dist-packages (from opencv-python) (1.26.4)\n",
            "Downloading pytesseract-0.3.13-py3-none-any.whl (14 kB)\n",
            "Installing collected packages: pytesseract\n",
            "Successfully installed pytesseract-0.3.13\n",
            "Hit:1 http://archive.ubuntu.com/ubuntu jammy InRelease\n",
            "Get:2 http://archive.ubuntu.com/ubuntu jammy-updates InRelease [128 kB]\n",
            "Get:3 https://cloud.r-project.org/bin/linux/ubuntu jammy-cran40/ InRelease [3,626 B]\n",
            "Get:4 https://developer.download.nvidia.com/compute/cuda/repos/ubuntu2204/x86_64  InRelease [1,581 B]\n",
            "Get:5 http://security.ubuntu.com/ubuntu jammy-security InRelease [129 kB]\n",
            "Ign:6 https://r2u.stat.illinois.edu/ubuntu jammy InRelease\n",
            "Get:7 https://r2u.stat.illinois.edu/ubuntu jammy Release [5,713 B]\n",
            "Get:8 https://r2u.stat.illinois.edu/ubuntu jammy Release.gpg [793 B]\n",
            "Get:9 http://archive.ubuntu.com/ubuntu jammy-backports InRelease [127 kB]\n",
            "Hit:10 https://ppa.launchpadcontent.net/deadsnakes/ppa/ubuntu jammy InRelease\n",
            "Hit:11 https://ppa.launchpadcontent.net/graphics-drivers/ppa/ubuntu jammy InRelease\n",
            "Hit:12 https://ppa.launchpadcontent.net/ubuntugis/ppa/ubuntu jammy InRelease\n",
            "Get:13 https://developer.download.nvidia.com/compute/cuda/repos/ubuntu2204/x86_64  Packages [1,031 kB]\n",
            "Get:14 https://r2u.stat.illinois.edu/ubuntu jammy/main amd64 Packages [2,596 kB]\n",
            "Get:15 http://archive.ubuntu.com/ubuntu jammy-updates/main amd64 Packages [2,645 kB]\n",
            "Get:16 https://r2u.stat.illinois.edu/ubuntu jammy/main all Packages [8,391 kB]\n",
            "Get:17 http://archive.ubuntu.com/ubuntu jammy-updates/universe amd64 Packages [1,450 kB]\n",
            "Get:18 http://archive.ubuntu.com/ubuntu jammy-updates/restricted amd64 Packages [3,272 kB]\n",
            "Get:19 http://archive.ubuntu.com/ubuntu jammy-backports/universe amd64 Packages [33.7 kB]\n",
            "Get:20 http://security.ubuntu.com/ubuntu jammy-security/main amd64 Packages [2,326 kB]\n",
            "Get:21 http://security.ubuntu.com/ubuntu jammy-security/universe amd64 Packages [1,161 kB]\n",
            "Fetched 23.3 MB in 9s (2,567 kB/s)\n",
            "Reading package lists... Done\n",
            "W: Skipping acquire of configured file 'main/source/Sources' as repository 'https://r2u.stat.illinois.edu/ubuntu jammy InRelease' does not seem to provide it (sources.list entry misspelt?)\n",
            "Reading package lists... Done\n",
            "Building dependency tree... Done\n",
            "Reading state information... Done\n",
            "The following additional packages will be installed:\n",
            "  tesseract-ocr-eng tesseract-ocr-osd\n",
            "The following NEW packages will be installed:\n",
            "  tesseract-ocr tesseract-ocr-eng tesseract-ocr-osd\n",
            "0 upgraded, 3 newly installed, 0 to remove and 51 not upgraded.\n",
            "Need to get 4,816 kB of archives.\n",
            "After this operation, 15.6 MB of additional disk space will be used.\n",
            "Get:1 http://archive.ubuntu.com/ubuntu jammy/universe amd64 tesseract-ocr-eng all 1:4.00~git30-7274cfa-1.1 [1,591 kB]\n",
            "Get:2 http://archive.ubuntu.com/ubuntu jammy/universe amd64 tesseract-ocr-osd all 1:4.00~git30-7274cfa-1.1 [2,990 kB]\n",
            "Get:3 http://archive.ubuntu.com/ubuntu jammy/universe amd64 tesseract-ocr amd64 4.1.1-2.1build1 [236 kB]\n",
            "Fetched 4,816 kB in 2s (2,961 kB/s)\n",
            "Selecting previously unselected package tesseract-ocr-eng.\n",
            "(Reading database ... 123629 files and directories currently installed.)\n",
            "Preparing to unpack .../tesseract-ocr-eng_1%3a4.00~git30-7274cfa-1.1_all.deb ...\n",
            "Unpacking tesseract-ocr-eng (1:4.00~git30-7274cfa-1.1) ...\n",
            "Selecting previously unselected package tesseract-ocr-osd.\n",
            "Preparing to unpack .../tesseract-ocr-osd_1%3a4.00~git30-7274cfa-1.1_all.deb ...\n",
            "Unpacking tesseract-ocr-osd (1:4.00~git30-7274cfa-1.1) ...\n",
            "Selecting previously unselected package tesseract-ocr.\n",
            "Preparing to unpack .../tesseract-ocr_4.1.1-2.1build1_amd64.deb ...\n",
            "Unpacking tesseract-ocr (4.1.1-2.1build1) ...\n",
            "Setting up tesseract-ocr-eng (1:4.00~git30-7274cfa-1.1) ...\n",
            "Setting up tesseract-ocr-osd (1:4.00~git30-7274cfa-1.1) ...\n",
            "Setting up tesseract-ocr (4.1.1-2.1build1) ...\n",
            "Processing triggers for man-db (2.10.2-1) ...\n",
            "Requirement already satisfied: pytesseract in /usr/local/lib/python3.10/dist-packages (0.3.13)\n",
            "Requirement already satisfied: packaging>=21.3 in /usr/local/lib/python3.10/dist-packages (from pytesseract) (24.1)\n",
            "Requirement already satisfied: Pillow>=8.0.0 in /usr/local/lib/python3.10/dist-packages (from pytesseract) (10.4.0)\n"
          ]
        }
      ],
      "source": [
        "!pip install pytesseract opencv-python\n",
        "!apt-get update\n",
        "!apt-get install -y tesseract-ocr\n",
        "!pip install pytesseract\n",
        "import cv2\n",
        "import pytesseract\n",
        "import re"
      ]
    },
    {
      "cell_type": "code",
      "source": [
        "image = cv2.imread('/content/img1.jpg')\n",
        "gray_image = cv2.cvtColor(image, cv2.COLOR_BGR2GRAY)"
      ],
      "metadata": {
        "id": "yjnvH3bgUP43"
      },
      "execution_count": null,
      "outputs": []
    },
    {
      "cell_type": "markdown",
      "source": [
        "**Applying Thresholding to improve image quality**"
      ],
      "metadata": {
        "id": "HveET5lvUoSl"
      }
    },
    {
      "cell_type": "code",
      "source": [
        "extracted_text = pytesseract.image_to_string(gray_image)\n",
        "print(\"Extracted Text:\\n\", extracted_text)"
      ],
      "metadata": {
        "colab": {
          "base_uri": "https://localhost:8080/"
        },
        "id": "RDD4WRHLU0Qr",
        "outputId": "290b0361-37b3-4fc4-8d10-df4370bf5b38"
      },
      "execution_count": null,
      "outputs": [
        {
          "output_type": "stream",
          "name": "stdout",
          "text": [
            "Extracted Text:\n",
            " BATCH NO.\n",
            "\n",
            "USE BY\n",
            "\n",
            "aa\n",
            "= 470/- 21/08/24 20/08/25 F21B7\n",
            "= 0.94 per 9g 14H4002401\n",
            "\n",
            "(INCL. OF ALL TAXES)\n",
            "\n",
            "eae\n",
            "\n",
            " \n",
            "\f\n"
          ]
        }
      ]
    },
    {
      "cell_type": "markdown",
      "source": [
        "**Regex Code:**"
      ],
      "metadata": {
        "id": "7SX14gTtVP93"
      }
    },
    {
      "cell_type": "code",
      "source": [
        "combined_brand_pattern = (\n",
        "    r\"(?i)(?:(?:Regd\\.?\\s*TM\\s*of|Marketed\\s*by|Manufactured\\s*by|\"\n",
        "    r\"A\\s*company\\s*of|Manufactured\\s*&\\s*Packed\\s*by|Mfd\\.?\\s*by|@)[ \\t]*|\"\n",
        "    r\"(?:irademark Owner:[ \\t]*|Trademark Owner:[ \\t]*)|\"\n",
        "    r\"\\b(?:irademark Owner:[ \\t]*|Trademark Owner:[ \\t]*))\"\n",
        "    r\"([A-Za-z&]+(?:\\s+(?:Co\\.?|PVT\\.?|Pvt\\.?|LTD\\.?|Ltd\\.?|LLC|INC\\.?|GMBH|AG|CO\\.))?)\"  # Excluded digits by removing 0-9\n",
        "    r\"\\b\"\n",
        ")\n",
        "pack_size_pattern = r\"(\\d+\\s?(N))\"\n",
        "\n",
        "# MRP pattern to capture both \"MRP\" mentioned values and values after '='\n",
        "mrp_pattern = r\"(?:MRP:?\\s?(Rs\\.?|₹|Rs\\.:)?\\s?(\\d+\\.\\d{0,2})|=\\s*(\\d+))\"\n",
        "# Float pattern for standalone prices\n",
        "float_pattern = r\"\\d+\\.\\d+\"  # Matches float numbers\n",
        "\n",
        "# The original brand_pattern variable was not defined, so I'm assuming it was intended to be combined_brand_pattern\n",
        "brand_pattern = combined_brand_pattern"
      ],
      "metadata": {
        "id": "ULywgVgQVUhP"
      },
      "execution_count": null,
      "outputs": []
    },
    {
      "cell_type": "code",
      "source": [
        "from datetime import datetime\n",
        "import re\n",
        "\n",
        "def correct_ocr_date(date_str, ocr_correction):\n",
        "    for incorrect, correct in ocr_correction.items():\n",
        "        date_str = date_str.replace(incorrect, correct)\n",
        "    return date_str\n",
        "\n",
        "def extract_dates(text):\n",
        "    # Regular expression to find dates in various formats (dd/mm/yyyy or mm/dd/yyyy)\n",
        "    date_pattern = r'(\\d{1,2}[-/]\\d{1,2}[-/]\\d{2,4})'\n",
        "    matches = re.findall(date_pattern, text)\n",
        "    return matches\n",
        "\n",
        "def parse_dates(date_strings):\n",
        "    parsed_dates = []\n",
        "    ocr_correction = {\n",
        "        '4': '1',  # Example: OCR may read 4 as 1\n",
        "        '6': '0',  # Example: OCR may read 6 as 0\n",
        "        '9': '3',  # Example: OCR may misinterpret 9 as 3\n",
        "    }\n",
        "\n",
        "    for date_str in date_strings:\n",
        "        # Normalize the date string (replace / with - for consistency)\n",
        "        date_str = date_str.replace('/', '-')\n",
        "\n",
        "        # Split the date into components\n",
        "        day, month, year = date_str.split('-')\n",
        "\n",
        "        # Correct OCR misinterpretation only if day > 31 or month > 12\n",
        "        if int(day) > 31 or int(month) > 12:\n",
        "            corrected_date_str = correct_ocr_date(date_str, ocr_correction)\n",
        "        else:\n",
        "            corrected_date_str = date_str\n",
        "\n",
        "        # Attempt to parse the date assuming dd-mm-yyyy format\n",
        "        try:\n",
        "            # If the year is only 2 digits, assume it's in the 21st century\n",
        "            if len(year) == 2:\n",
        "                corrected_date_str = corrected_date_str[:-2] + '20' + corrected_date_str[-2:]\n",
        "            parsed_date = datetime.strptime(corrected_date_str, '%d-%m-%Y')\n",
        "        except ValueError:\n",
        "            # Attempt to parse the date assuming mm-dd-yyyy format if dd-mm-yyyy fails\n",
        "            try:\n",
        "                if len(year) == 2:\n",
        "                    corrected_date_str = corrected_date_str[:-2] + '20' + corrected_date_str[-2:]\n",
        "                parsed_date = datetime.strptime(corrected_date_str, '%m-%d-%Y')\n",
        "            except ValueError:\n",
        "                print(f\"Error parsing date: {corrected_date_str}\")\n",
        "                continue\n",
        "        parsed_dates.append(parsed_date)\n",
        "    return parsed_dates\n",
        "\n",
        "def get_latest_date(dates):\n",
        "    if dates:\n",
        "        return max(dates)  # Returns the latest (most recent) date\n",
        "    return None\n",
        "\n",
        "# Example usage:\n",
        "extracted_dates = extract_dates(extracted_text)\n",
        "parsed_dates = parse_dates(extracted_dates)\n",
        "latest_expiry_date = get_latest_date(parsed_dates)\n",
        "\n",
        "if latest_expiry_date:\n",
        "    print(\"Latest Expiry Date:\", latest_expiry_date.strftime('%d/%m/%Y'))\n",
        "else:\n",
        "    print(\"No valid expiry date found.\")"
      ],
      "metadata": {
        "colab": {
          "base_uri": "https://localhost:8080/"
        },
        "id": "Vh4Mg1ZUCXg4",
        "outputId": "a1bbd8c2-9ad1-443a-974e-974ad1d18463"
      },
      "execution_count": null,
      "outputs": [
        {
          "output_type": "stream",
          "name": "stdout",
          "text": [
            "Latest Expiry Date: 20/08/2025\n"
          ]
        }
      ]
    },
    {
      "cell_type": "code",
      "source": [
        "brand_match = re.search(brand_pattern, extracted_text, re.IGNORECASE)\n",
        "if brand_match:\n",
        "    brand_name = brand_match.group(1)\n",
        "    print(\"Brand Name:\", brand_name)\n",
        "else:\n",
        "    print(\"Brand Name not listed\")\n",
        "\n",
        "# Extract pack size\n",
        "pack_size_match = re.search(pack_size_pattern, extracted_text, re.IGNORECASE)\n",
        "if pack_size_match:\n",
        "    pack_size = pack_size_match.group(0)\n",
        "    print(\"Pack Size:\", pack_size)\n",
        "else:\n",
        "    print(\"Pack Size: 1\")\n",
        "\n",
        "# Extract expiry date using the regex and apply the correction function\n",
        "extracted_dates = extract_dates(extracted_text)\n",
        "parsed_dates = parse_dates(extracted_dates)\n",
        "latest_expiry_date = get_latest_date(parsed_dates)\n",
        "\n",
        "if latest_expiry_date:\n",
        "    print(\"Expiry Date:\", latest_expiry_date.strftime('%d/%m/%Y'))\n",
        "else:\n",
        "    print(\"Expiry Date not listed.\")\n",
        "\n",
        "\n",
        "# Extract MRP\n",
        "mrp_match = re.search(mrp_pattern, extracted_text, re.IGNORECASE)\n",
        "if mrp_match and (mrp_match.group(2) or mrp_match.group(3)):  # Check for both decimal and whole number matches\n",
        "    mrp_value = float(mrp_match.group(2)) if mrp_match.group(2) else int(mrp_match.group(3))  # Prioritize integer MRP\n",
        "    formatted_mrp = f\"MRP Rs. {mrp_value:.2f}\" if isinstance(mrp_value, float) else f\"MRP Rs. {mrp_value}\"\n",
        "    print(\"MRP:\", formatted_mrp)\n",
        "else:\n",
        "    # If MRP not found, look for all float values including standalone values\n",
        "    float_matches = re.findall(float_pattern, extracted_text)\n",
        "    if float_matches:\n",
        "        highest_mrp = max(float(float_value) for float_value in float_matches)\n",
        "        print(f\"MRP: Rs. {highest_mrp:.2f}\")\n",
        "    else:\n",
        "        print(\"MRP not listed.\")\n"
      ],
      "metadata": {
        "colab": {
          "base_uri": "https://localhost:8080/"
        },
        "id": "ypO3Z4jVVaA0",
        "outputId": "3afd4a9b-2456-4036-b94b-4c0a8225daba"
      },
      "execution_count": null,
      "outputs": [
        {
          "output_type": "stream",
          "name": "stdout",
          "text": [
            "Brand Name not listed\n",
            "Pack Size: 1\n",
            "Expiry Date: 20/08/2025\n",
            "MRP: MRP Rs. 470\n"
          ]
        }
      ]
    },
    {
      "cell_type": "code",
      "source": [],
      "metadata": {
        "id": "YE7Vdcl6Y63a"
      },
      "execution_count": null,
      "outputs": []
    }
  ]
}